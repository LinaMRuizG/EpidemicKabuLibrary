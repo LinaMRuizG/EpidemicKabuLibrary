{
 "cells": [
  {
   "cell_type": "markdown",
   "metadata": {},
   "source": [
    "In this notebook we make an example of how to use the EpidemicKabu library. For this, we use the unCoVer data about COVID-19 epidemic in different countries with  daily dates and cases reported between 2020 and 2022. All the data used is in \"./data/\" directory. "
   ]
  },
  {
   "cell_type": "markdown",
   "metadata": {},
   "source": [
    "Importing the library"
   ]
  },
  {
   "cell_type": "code",
   "execution_count": 28,
   "metadata": {},
   "outputs": [],
   "source": [
    "import epidemickabu as ek"
   ]
  },
  {
   "cell_type": "code",
   "execution_count": 3,
   "metadata": {},
   "outputs": [],
   "source": [
    "# importing other necesary libraries\n",
    "import pandas as pd"
   ]
  },
  {
   "cell_type": "markdown",
   "metadata": {},
   "source": [
    "Identifying the necessary attributes to make an instance of the clases waves and peaksValleys"
   ]
  },
  {
   "cell_type": "code",
   "execution_count": 19,
   "metadata": {},
   "outputs": [
    {
     "name": "stdout",
     "output_type": "stream",
     "text": [
      "\u001b[0;31mInit signature:\u001b[0m\n",
      "\u001b[0mek\u001b[0m\u001b[0;34m.\u001b[0m\u001b[0mcurves\u001b[0m\u001b[0;34m(\u001b[0m\u001b[0;34m\u001b[0m\n",
      "\u001b[0;34m\u001b[0m    \u001b[0mdataframe\u001b[0m\u001b[0;34m,\u001b[0m\u001b[0;34m\u001b[0m\n",
      "\u001b[0;34m\u001b[0m    \u001b[0mdatesName\u001b[0m\u001b[0;34m,\u001b[0m\u001b[0;34m\u001b[0m\n",
      "\u001b[0;34m\u001b[0m    \u001b[0mcasesName\u001b[0m\u001b[0;34m,\u001b[0m\u001b[0;34m\u001b[0m\n",
      "\u001b[0;34m\u001b[0m    \u001b[0mkernel1\u001b[0m\u001b[0;34m,\u001b[0m\u001b[0;34m\u001b[0m\n",
      "\u001b[0;34m\u001b[0m    \u001b[0mkernel2\u001b[0m\u001b[0;34m,\u001b[0m\u001b[0;34m\u001b[0m\n",
      "\u001b[0;34m\u001b[0m    \u001b[0mplotName\u001b[0m\u001b[0;34m,\u001b[0m\u001b[0;34m\u001b[0m\n",
      "\u001b[0;34m\u001b[0m    \u001b[0mdfName\u001b[0m\u001b[0;34m,\u001b[0m\u001b[0;34m\u001b[0m\n",
      "\u001b[0;34m\u001b[0m    \u001b[0moutFolderPlot\u001b[0m\u001b[0;34m=\u001b[0m\u001b[0;34m'./plots/'\u001b[0m\u001b[0;34m,\u001b[0m\u001b[0;34m\u001b[0m\n",
      "\u001b[0;34m\u001b[0m    \u001b[0moutFolderDF\u001b[0m\u001b[0;34m=\u001b[0m\u001b[0;34m'./dataframes/'\u001b[0m\u001b[0;34m,\u001b[0m\u001b[0;34m\u001b[0m\n",
      "\u001b[0;34m\u001b[0m\u001b[0;34m)\u001b[0m\u001b[0;34m\u001b[0m\u001b[0;34m\u001b[0m\u001b[0m\n",
      "\u001b[0;31mDocstring:\u001b[0m      curves is the class from kabu module in the EpidemicKabu library. The main workflow of this class is to normalize the epidemic curve, smooth it with a Gaussian kernel, and estimate the first and second derivative of the smoothed curve. The main workflow of this class is to normalize, smooth with a Gaussian kernel, and estimate the first and second derivative of the epidemic curve. A draw of this workflow in https://github.com/LinaMRuizG/EpidemicKabu/tree/main/paper/figures\n",
      "\u001b[0;31mInit docstring:\u001b[0m\n",
      "The arguments to make an instance are:\n",
      "1. dataframe: DataFrame with the dates and the number of cases by date\n",
      "2. datesName: Name of the column with the dates which are strings \n",
      "3. casesName: Name of the column with the cases by each date\n",
      "4. kernel: value of the parameters to apply the Gaussian kernel.The kernel could be an int or it could be a list with [df,c1,v1,c2],where df is a dataframe with a column c1 with a values v1 and a column c2. In this way you could use a configuration file with the kernels as in https://github.com/LinaMRuizG/EpidemicKabu/blob/main/exampleUseLibrary/data/configurationFile.csv\n",
      "5. plotName: The name for the output plot and file of the plot\n",
      "6. dfName: The name for the output dataframe. This dataframe has the inital dates and number of cases and it is added a column for the normalized values and smoothed values\n",
      "7. outFolderPlot: The directory to put the output plot. The default is ./plots/, be sure of create it\n",
      "8. outFolderDF: The directory to put the output dataframe. The default is ./dataframes/,be sure of create it\n",
      "\u001b[0;31mFile:\u001b[0m           ~/Documents/EpidemicKabu_project/EpidemicKabuLibrary/venv/lib/python3.10/site-packages/epidemickabu/kabu.py\n",
      "\u001b[0;31mType:\u001b[0m           type\n",
      "\u001b[0;31mSubclasses:\u001b[0m     waves"
     ]
    }
   ],
   "source": [
    "?ek.curves"
   ]
  },
  {
   "cell_type": "code",
   "execution_count": 20,
   "metadata": {},
   "outputs": [
    {
     "name": "stdout",
     "output_type": "stream",
     "text": [
      "\u001b[0;31mInit signature:\u001b[0m\n",
      "\u001b[0mek\u001b[0m\u001b[0;34m.\u001b[0m\u001b[0mwaves\u001b[0m\u001b[0;34m(\u001b[0m\u001b[0;34m\u001b[0m\n",
      "\u001b[0;34m\u001b[0m    \u001b[0mdataframe\u001b[0m\u001b[0;34m,\u001b[0m\u001b[0;34m\u001b[0m\n",
      "\u001b[0;34m\u001b[0m    \u001b[0mdatesName\u001b[0m\u001b[0;34m,\u001b[0m\u001b[0;34m\u001b[0m\n",
      "\u001b[0;34m\u001b[0m    \u001b[0mcasesName\u001b[0m\u001b[0;34m,\u001b[0m\u001b[0;34m\u001b[0m\n",
      "\u001b[0;34m\u001b[0m    \u001b[0mkernel1\u001b[0m\u001b[0;34m,\u001b[0m\u001b[0;34m\u001b[0m\n",
      "\u001b[0;34m\u001b[0m    \u001b[0mkernel2\u001b[0m\u001b[0;34m,\u001b[0m\u001b[0;34m\u001b[0m\n",
      "\u001b[0;34m\u001b[0m    \u001b[0mplotName\u001b[0m\u001b[0;34m,\u001b[0m\u001b[0;34m\u001b[0m\n",
      "\u001b[0;34m\u001b[0m    \u001b[0mdfName\u001b[0m\u001b[0;34m,\u001b[0m\u001b[0;34m\u001b[0m\n",
      "\u001b[0;34m\u001b[0m    \u001b[0moutFolderPlot\u001b[0m\u001b[0;34m=\u001b[0m\u001b[0;34m'./plots/'\u001b[0m\u001b[0;34m,\u001b[0m\u001b[0;34m\u001b[0m\n",
      "\u001b[0;34m\u001b[0m    \u001b[0moutFolderDF\u001b[0m\u001b[0;34m=\u001b[0m\u001b[0;34m'./dataframes/'\u001b[0m\u001b[0;34m,\u001b[0m\u001b[0;34m\u001b[0m\n",
      "\u001b[0;34m\u001b[0m    \u001b[0mthresholdW\u001b[0m\u001b[0;34m=\u001b[0m\u001b[0;36m0\u001b[0m\u001b[0;34m,\u001b[0m\u001b[0;34m\u001b[0m\n",
      "\u001b[0;34m\u001b[0m\u001b[0;34m)\u001b[0m\u001b[0;34m\u001b[0m\u001b[0;34m\u001b[0m\u001b[0m\n",
      "\u001b[0;31mDocstring:\u001b[0m     \n",
      "waves is the class from kabuWaves module in the EpidemicKabu library. It is a child class of \n",
      "curves class from module kabu. Its workflow is to identify the cut points that delimites the start\n",
      "and the end of a wave using the methods idenCutPointsW() and idenPreviousDatesW(). And filter those cut \n",
      "points according to a threshold with the method idenPreviousDatesW(). A draw of this workflow in https://github.com/LinaMRuizG/EpidemicKabu/tree/main/paper/figures\n",
      " \n",
      "\u001b[0;31mInit docstring:\u001b[0m\n",
      "The arguments to make an instance are:\n",
      "1. dataframe: DataFrame with the dates and the number of cases by date\n",
      "2. datesName: Name of the column with the dates which are strings \n",
      "3. casesName: Name of the column with the cases by each date\n",
      "4. kernel: value of the parameters to apply the Gaussian kernel.The kernel could be an int or it could be a list with [df,c1,v1,c2],where df is a dataframe with a column c1 with a values v1 and a column c2. In this way you could use a configuration file with the kernels as in https://github.com/LinaMRuizG/EpidemicKabu/blob/main/exampleUseLibrary/data/configurationFile.csv\n",
      "5. plotName: The name for the output plot and file of the plot\n",
      "6. dfName: The name for the output dataframe. This dataframe has the inital dates and number of cases and it is added a column for the normalized values and smoothed values\n",
      "7. outFolderPlot: The directory to put the output plot. The default is ./plots/, be sure of create it\n",
      "8. outFolderDF: The directory to put the output dataframe. The default is ./dataframes/, be sure of create it\n",
      "9. thresholdW: It is used to filter the waves\n",
      "\u001b[0;31mFile:\u001b[0m           ~/Documents/EpidemicKabu_project/EpidemicKabuLibrary/venv/lib/python3.10/site-packages/epidemickabu/kabuWaves.py\n",
      "\u001b[0;31mType:\u001b[0m           type\n",
      "\u001b[0;31mSubclasses:\u001b[0m     peaksValleys"
     ]
    }
   ],
   "source": [
    "?ek.waves"
   ]
  },
  {
   "cell_type": "code",
   "execution_count": 21,
   "metadata": {},
   "outputs": [
    {
     "name": "stdout",
     "output_type": "stream",
     "text": [
      "\u001b[0;31mInit signature:\u001b[0m\n",
      "\u001b[0mek\u001b[0m\u001b[0;34m.\u001b[0m\u001b[0mpeaksValleys\u001b[0m\u001b[0;34m(\u001b[0m\u001b[0;34m\u001b[0m\n",
      "\u001b[0;34m\u001b[0m    \u001b[0mdataframe\u001b[0m\u001b[0;34m,\u001b[0m\u001b[0;34m\u001b[0m\n",
      "\u001b[0;34m\u001b[0m    \u001b[0mdatesName\u001b[0m\u001b[0;34m,\u001b[0m\u001b[0;34m\u001b[0m\n",
      "\u001b[0;34m\u001b[0m    \u001b[0mcasesName\u001b[0m\u001b[0;34m,\u001b[0m\u001b[0;34m\u001b[0m\n",
      "\u001b[0;34m\u001b[0m    \u001b[0mkernel1\u001b[0m\u001b[0;34m,\u001b[0m\u001b[0;34m\u001b[0m\n",
      "\u001b[0;34m\u001b[0m    \u001b[0mkernel2\u001b[0m\u001b[0;34m,\u001b[0m\u001b[0;34m\u001b[0m\n",
      "\u001b[0;34m\u001b[0m    \u001b[0mplotName\u001b[0m\u001b[0;34m,\u001b[0m\u001b[0;34m\u001b[0m\n",
      "\u001b[0;34m\u001b[0m    \u001b[0mdfName\u001b[0m\u001b[0;34m,\u001b[0m\u001b[0;34m\u001b[0m\n",
      "\u001b[0;34m\u001b[0m    \u001b[0moutFolderPlot\u001b[0m\u001b[0;34m=\u001b[0m\u001b[0;34m'./plots/'\u001b[0m\u001b[0;34m,\u001b[0m\u001b[0;34m\u001b[0m\n",
      "\u001b[0;34m\u001b[0m    \u001b[0moutFolderDF\u001b[0m\u001b[0;34m=\u001b[0m\u001b[0;34m'./dataframes/'\u001b[0m\u001b[0;34m,\u001b[0m\u001b[0;34m\u001b[0m\n",
      "\u001b[0;34m\u001b[0m\u001b[0;34m)\u001b[0m\u001b[0;34m\u001b[0m\u001b[0;34m\u001b[0m\u001b[0m\n",
      "\u001b[0;31mDocstring:\u001b[0m     \n",
      "peaksValleys is the class from kabuPeaksValleys module in the EpidemicKabu library. It is a child class of \n",
      "curves and waves classes from module kabu and kabuWaves, respectively. Its workflow is to identify the cut points\n",
      "that delimites the start and the end of a peak and valley. And filter those cut points according to a threshold.\n",
      "A draw of this workflow in https://github.com/LinaMRuizG/EpidemicKabu/tree/main/paper/figures\n",
      " \n",
      "\u001b[0;31mInit docstring:\u001b[0m\n",
      "The arguments to make an instance are:\n",
      "1. dataframe: DataFrame with the dates and the number of cases by date\n",
      "2. datesName: Name of the column with the dates which are strings \n",
      "3. casesName: Name of the column with the cases by each date\n",
      "4. kernel: value of the parameters to apply the Gaussian kernel.The kernel could be an int or it could be a list with [df,c1,v1,c2],where df is a dataframe with a column c1 with a values v1 and a column c2. In this way you could use a configuration file with the kernels as in https://github.com/LinaMRuizG/EpidemicKabu/blob/main/exampleUseLibrary/data/configurationFile.csv\n",
      "5. plotName: The name for the output plot and file of the plot\n",
      "6. dfName: The name for the output dataframe. This dataframe has the inital dates and number of cases and it is added a column for the normalized values and smoothed values\n",
      "7. outFolderPlot: The directory to put the output plot. The default is ./plots/, be sure of create it\n",
      "8. outFolderDF: The directory to put the output dataframe. The default is ./dataframes/, be sure of create it\n",
      "\u001b[0;31mFile:\u001b[0m           ~/Documents/EpidemicKabu_project/EpidemicKabuLibrary/venv/lib/python3.10/site-packages/epidemickabu/kabuPeaksValleys.py\n",
      "\u001b[0;31mType:\u001b[0m           type\n",
      "\u001b[0;31mSubclasses:\u001b[0m     "
     ]
    }
   ],
   "source": [
    "?ek.peaksValleys"
   ]
  },
  {
   "cell_type": "markdown",
   "metadata": {},
   "source": [
    "Defining the variables to use"
   ]
  },
  {
   "cell_type": "code",
   "execution_count": 4,
   "metadata": {},
   "outputs": [
    {
     "data": {
      "text/html": [
       "<div>\n",
       "<style scoped>\n",
       "    .dataframe tbody tr th:only-of-type {\n",
       "        vertical-align: middle;\n",
       "    }\n",
       "\n",
       "    .dataframe tbody tr th {\n",
       "        vertical-align: top;\n",
       "    }\n",
       "\n",
       "    .dataframe thead th {\n",
       "        text-align: right;\n",
       "    }\n",
       "</style>\n",
       "<table border=\"1\" class=\"dataframe\">\n",
       "  <thead>\n",
       "    <tr style=\"text-align: right;\">\n",
       "      <th></th>\n",
       "      <th>Date_reported</th>\n",
       "      <th>Country_code</th>\n",
       "      <th>Country</th>\n",
       "      <th>New_cases</th>\n",
       "    </tr>\n",
       "  </thead>\n",
       "  <tbody>\n",
       "    <tr>\n",
       "      <th>2997</th>\n",
       "      <td>2020-01-03</td>\n",
       "      <td>CO</td>\n",
       "      <td>Colombia</td>\n",
       "      <td>0</td>\n",
       "    </tr>\n",
       "    <tr>\n",
       "      <th>2998</th>\n",
       "      <td>2020-01-04</td>\n",
       "      <td>CO</td>\n",
       "      <td>Colombia</td>\n",
       "      <td>0</td>\n",
       "    </tr>\n",
       "    <tr>\n",
       "      <th>2999</th>\n",
       "      <td>2020-01-05</td>\n",
       "      <td>CO</td>\n",
       "      <td>Colombia</td>\n",
       "      <td>0</td>\n",
       "    </tr>\n",
       "  </tbody>\n",
       "</table>\n",
       "</div>"
      ],
      "text/plain": [
       "     Date_reported Country_code   Country  New_cases\n",
       "2997    2020-01-03           CO  Colombia          0\n",
       "2998    2020-01-04           CO  Colombia          0\n",
       "2999    2020-01-05           CO  Colombia          0"
      ]
     },
     "execution_count": 4,
     "metadata": {},
     "output_type": "execute_result"
    }
   ],
   "source": [
    "# The dataframe with the columns dates and cases by date\n",
    "database = pd.read_csv(\"/Users/linaruiz/Documents/EpidemicKabu_project/EpidemicKabuLibrary/examples/data/uncoverCountries.csv\")\n",
    "database = database[[\"Date_reported\",\"Country_code\",\"Country\",\"New_cases\"]]\n",
    "databaseCOLOMBIA=database[database[\"Country_code\"]==\"CO\"]\n",
    "datesName = \"Date_reported\"\n",
    "casesName = \"New_cases\"\n",
    "databaseCOLOMBIA.head(3)"
   ]
  },
  {
   "cell_type": "code",
   "execution_count": 5,
   "metadata": {},
   "outputs": [
    {
     "data": {
      "text/html": [
       "<div>\n",
       "<style scoped>\n",
       "    .dataframe tbody tr th:only-of-type {\n",
       "        vertical-align: middle;\n",
       "    }\n",
       "\n",
       "    .dataframe tbody tr th {\n",
       "        vertical-align: top;\n",
       "    }\n",
       "\n",
       "    .dataframe thead th {\n",
       "        text-align: right;\n",
       "    }\n",
       "</style>\n",
       "<table border=\"1\" class=\"dataframe\">\n",
       "  <thead>\n",
       "    <tr style=\"text-align: right;\">\n",
       "      <th></th>\n",
       "      <th>Country</th>\n",
       "      <th>Code</th>\n",
       "      <th>kernel1</th>\n",
       "      <th>Kernel2</th>\n",
       "      <th>Kernel3</th>\n",
       "    </tr>\n",
       "  </thead>\n",
       "  <tbody>\n",
       "    <tr>\n",
       "      <th>0</th>\n",
       "      <td>Belgium</td>\n",
       "      <td>BE</td>\n",
       "      <td>20</td>\n",
       "      <td>20</td>\n",
       "      <td>27</td>\n",
       "    </tr>\n",
       "    <tr>\n",
       "      <th>1</th>\n",
       "      <td>Bolivia</td>\n",
       "      <td>BO</td>\n",
       "      <td>18</td>\n",
       "      <td>18</td>\n",
       "      <td>27</td>\n",
       "    </tr>\n",
       "    <tr>\n",
       "      <th>2</th>\n",
       "      <td>Brazil</td>\n",
       "      <td>BR</td>\n",
       "      <td>50</td>\n",
       "      <td>50</td>\n",
       "      <td>27</td>\n",
       "    </tr>\n",
       "  </tbody>\n",
       "</table>\n",
       "</div>"
      ],
      "text/plain": [
       "   Country Code  kernel1  Kernel2  Kernel3\n",
       "0  Belgium   BE       20       20       27\n",
       "1  Bolivia   BO       18       18       27\n",
       "2   Brazil   BR       50       50       27"
      ]
     },
     "execution_count": 5,
     "metadata": {},
     "output_type": "execute_result"
    }
   ],
   "source": [
    "# The next dataframe has the kernel values for the countries\n",
    "configFile= pd.read_csv(\"/Users/linaruiz/Documents/EpidemicKabu_project/EpidemicKabuLibrary/examples/data/configurationFile.csv\")\n",
    "configFile.head(3)"
   ]
  },
  {
   "cell_type": "code",
   "execution_count": 6,
   "metadata": {},
   "outputs": [],
   "source": [
    "# the names of the output files\n",
    "plotNameW = \"Epidemic_curve_Colombia_W\"\n",
    "dfNameW = \"Epidemic_curve_Colombia_W\"\n",
    "plotNamePV = \"Epidemic_curve_Colombia_PV\"\n",
    "dfNamePV = \"Epidemic_curve_Colombia_PV\""
   ]
  },
  {
   "cell_type": "code",
   "execution_count": 7,
   "metadata": {},
   "outputs": [],
   "source": [
    "#Be sure to create the \"./plots/\" and \"./dataframes\" folder in the same folder in which you\n",
    "#are running the code, or define the variables to set an specific directory\n",
    "outFolderPlot= \"/Users/linaruiz/Documents/EpidemicKabu_project/EpidemicKabuLibrary/examples/plots/\"\n",
    "outFolderDF= \"/Users/linaruiz/Documents/EpidemicKabu_project/EpidemicKabuLibrary/examples/dataframes/\""
   ]
  },
  {
   "cell_type": "code",
   "execution_count": 8,
   "metadata": {},
   "outputs": [],
   "source": [
    "# The threshols is optional and its default is infinite. \n",
    "thresholdW = 1"
   ]
  },
  {
   "cell_type": "markdown",
   "metadata": {},
   "source": [
    "Basic example for Colombia epidemic curve"
   ]
  },
  {
   "cell_type": "markdown",
   "metadata": {},
   "source": [
    "    Waves"
   ]
  },
  {
   "cell_type": "code",
   "execution_count": 9,
   "metadata": {},
   "outputs": [],
   "source": [
    "example = ek.waves(databaseCOLOMBIA,datesName,casesName,[configFile,\"Code\",\"CO\",\"kernel1\"],[configFile,\"Code\",\"CO\",\"Kernel2\"],plotNameW,dfNameW,outFolderPlot,outFolderDF)\n",
    "example.run()"
   ]
  },
  {
   "cell_type": "code",
   "execution_count": 10,
   "metadata": {},
   "outputs": [],
   "source": [
    "# A simplier version with a kernels as a number an without customize the attributes with default values\n",
    "example = ek.waves(databaseCOLOMBIA,datesName,casesName,35,30,plotNameW,dfNameW)\n",
    "example.run()\n"
   ]
  },
  {
   "cell_type": "markdown",
   "metadata": {},
   "source": [
    "    Peaks and valleys"
   ]
  },
  {
   "cell_type": "code",
   "execution_count": 12,
   "metadata": {},
   "outputs": [],
   "source": [
    "example = ek.peaksValleys(databaseCOLOMBIA,datesName,casesName,[configFile,\"Code\",\"CO\",\"kernel1\"],[configFile,\"Code\",\"CO\",\"Kernel2\"],plotNamePV,dfNamePV,outFolderPlot,outFolderDF)\n",
    "example.run()"
   ]
  },
  {
   "cell_type": "code",
   "execution_count": 13,
   "metadata": {},
   "outputs": [],
   "source": [
    "# A simplier version with a kernels as a number an without customize the attributes with default values\n",
    "example = ek.peaksValleys(databaseCOLOMBIA,datesName,casesName,35,30,plotNamePV,dfNamePV)\n",
    "example.run()"
   ]
  },
  {
   "cell_type": "markdown",
   "metadata": {},
   "source": [
    "Using EpidemicKabu for all countries at once"
   ]
  },
  {
   "cell_type": "markdown",
   "metadata": {},
   "source": [
    "    Waves"
   ]
  },
  {
   "cell_type": "code",
   "execution_count": 10,
   "metadata": {},
   "outputs": [
    {
     "data": {
      "text/html": [
       "<div>\n",
       "<style scoped>\n",
       "    .dataframe tbody tr th:only-of-type {\n",
       "        vertical-align: middle;\n",
       "    }\n",
       "\n",
       "    .dataframe tbody tr th {\n",
       "        vertical-align: top;\n",
       "    }\n",
       "\n",
       "    .dataframe thead th {\n",
       "        text-align: right;\n",
       "    }\n",
       "</style>\n",
       "<table border=\"1\" class=\"dataframe\">\n",
       "  <thead>\n",
       "    <tr style=\"text-align: right;\">\n",
       "      <th></th>\n",
       "    </tr>\n",
       "  </thead>\n",
       "  <tbody>\n",
       "  </tbody>\n",
       "</table>\n",
       "</div>"
      ],
      "text/plain": [
       "Empty DataFrame\n",
       "Columns: []\n",
       "Index: []"
      ]
     },
     "execution_count": 10,
     "metadata": {},
     "output_type": "execute_result"
    }
   ],
   "source": [
    "#We could build a function to automatize the estimation for the 15 countries \n",
    "def kabuWavesDefault(database,datesName,casesName,value,plotsName,dfName):\n",
    "    test = ek.waves(database,datesName,casesName,[configFile,\"Code\",value,\"kernel1\"],[configFile,\"Code\",value,\"Kernel2\"],plotsName,dfName)\n",
    "    test.run()\n",
    "\n",
    "#using the function with the complete database \n",
    "database.groupby(\"Country\").apply(lambda x : kabuWavesDefault(\n",
    "    x[[\"Date_reported\",\"New_cases\"]],\n",
    "    datesName,\n",
    "    casesName,\n",
    "    x[\"Country_code\"].iloc[0],\n",
    "    \"Waves_\"+ x[\"Country\"].iloc[0],\n",
    "    \"Waves_\"+ x[\"Country\"].iloc[0]\n",
    "    ))"
   ]
  },
  {
   "cell_type": "markdown",
   "metadata": {},
   "source": [
    "    Peaks and valleys"
   ]
  },
  {
   "cell_type": "code",
   "execution_count": null,
   "metadata": {},
   "outputs": [],
   "source": [
    "#We could build a function to automatize the estimation for the 15 countries \n",
    "def kabuPeaksValleysDefault(database,datesName,casesName,value,plotsName,dfName):\n",
    "    test = ek.peaksValleys(database,datesName,casesName,[configFile,\"Code\",value,\"kernel1\"],[configFile,\"Code\",value,\"Kernel2\"],plotsName,dfName)\n",
    "    test.run()\n",
    "\n",
    "#using the function with the complete database \n",
    "database.groupby(\"Country\").apply(lambda x : kabuPeaksValleysDefault(\n",
    "    x[[\"Date_reported\",\"New_cases\"]],\n",
    "    datesName,\n",
    "    casesName,\n",
    "    x[\"Country_code\"].iloc[0],\n",
    "    \"PV_\"+ x[\"Country\"].iloc[0],\n",
    "    \"PV_\"+ x[\"Country\"].iloc[0]\n",
    "    ))"
   ]
  }
 ],
 "metadata": {
  "kernelspec": {
   "display_name": "Python 3 (ipykernel)",
   "language": "python",
   "name": "python3"
  },
  "language_info": {
   "codemirror_mode": {
    "name": "ipython",
    "version": 3
   },
   "file_extension": ".py",
   "mimetype": "text/x-python",
   "name": "python",
   "nbconvert_exporter": "python",
   "pygments_lexer": "ipython3",
   "version": "3.10.10"
  }
 },
 "nbformat": 4,
 "nbformat_minor": 2
}
