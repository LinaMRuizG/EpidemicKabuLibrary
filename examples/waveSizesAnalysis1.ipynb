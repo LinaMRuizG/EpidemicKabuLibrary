{
 "cells": [
  {
   "cell_type": "markdown",
   "id": "842500f4",
   "metadata": {},
   "source": [
    "**Using EpidemicKabu to estimate the size of the epidemic waves**\n",
    "In this notebook we create a database with date of report and an indicator of incident cases by date. Then, we use the library to estimate waves using the indicator and the dates as the main input. Finally, we create a database to estimate the waves size using the output database of the library."
   ]
  },
  {
   "cell_type": "markdown",
   "id": "e161dd97",
   "metadata": {},
   "source": [
    "***1. Building the database with the indicator:*** The indicator is estimated dividing each daily case between the total population by year by country and multiplying by 100."
   ]
  },
  {
   "cell_type": "code",
   "execution_count": 1,
   "id": "10bc2bb8",
   "metadata": {},
   "outputs": [],
   "source": [
    "import pandas as pd\n",
    "import numpy as np"
   ]
  },
  {
   "cell_type": "markdown",
   "id": "ddaa965a",
   "metadata": {},
   "source": [
    "    The database with the daily cases by country"
   ]
  },
  {
   "cell_type": "code",
   "execution_count": 2,
   "id": "c44b2fd7",
   "metadata": {},
   "outputs": [
    {
     "data": {
      "text/html": [
       "<div>\n",
       "<style scoped>\n",
       "    .dataframe tbody tr th:only-of-type {\n",
       "        vertical-align: middle;\n",
       "    }\n",
       "\n",
       "    .dataframe tbody tr th {\n",
       "        vertical-align: top;\n",
       "    }\n",
       "\n",
       "    .dataframe thead th {\n",
       "        text-align: right;\n",
       "    }\n",
       "</style>\n",
       "<table border=\"1\" class=\"dataframe\">\n",
       "  <thead>\n",
       "    <tr style=\"text-align: right;\">\n",
       "      <th></th>\n",
       "      <th>Date_reported</th>\n",
       "      <th>Country_code</th>\n",
       "      <th>Country</th>\n",
       "      <th>New_cases</th>\n",
       "    </tr>\n",
       "  </thead>\n",
       "  <tbody>\n",
       "    <tr>\n",
       "      <th>0</th>\n",
       "      <td>2020-01-03</td>\n",
       "      <td>BE</td>\n",
       "      <td>Belgium</td>\n",
       "      <td>0</td>\n",
       "    </tr>\n",
       "    <tr>\n",
       "      <th>1</th>\n",
       "      <td>2020-01-04</td>\n",
       "      <td>BE</td>\n",
       "      <td>Belgium</td>\n",
       "      <td>0</td>\n",
       "    </tr>\n",
       "    <tr>\n",
       "      <th>2</th>\n",
       "      <td>2020-01-05</td>\n",
       "      <td>BE</td>\n",
       "      <td>Belgium</td>\n",
       "      <td>0</td>\n",
       "    </tr>\n",
       "    <tr>\n",
       "      <th>3</th>\n",
       "      <td>2020-01-06</td>\n",
       "      <td>BE</td>\n",
       "      <td>Belgium</td>\n",
       "      <td>0</td>\n",
       "    </tr>\n",
       "    <tr>\n",
       "      <th>4</th>\n",
       "      <td>2020-01-07</td>\n",
       "      <td>BE</td>\n",
       "      <td>Belgium</td>\n",
       "      <td>0</td>\n",
       "    </tr>\n",
       "  </tbody>\n",
       "</table>\n",
       "</div>"
      ],
      "text/plain": [
       "  Date_reported Country_code  Country  New_cases\n",
       "0    2020-01-03           BE  Belgium          0\n",
       "1    2020-01-04           BE  Belgium          0\n",
       "2    2020-01-05           BE  Belgium          0\n",
       "3    2020-01-06           BE  Belgium          0\n",
       "4    2020-01-07           BE  Belgium          0"
      ]
     },
     "execution_count": 2,
     "metadata": {},
     "output_type": "execute_result"
    }
   ],
   "source": [
    "#The database with the daily cases by country\n",
    "database = pd.read_csv(\"/Users/linaruiz/Documents/EpidemicKabu_project/EpidemicKabu/exampleUseLibrary/data/uncoverCountries.csv\")\n",
    "database = database[[\"Date_reported\",\"Country_code\",\"Country\",\"New_cases\"]] \n",
    "database.head()"
   ]
  },
  {
   "cell_type": "code",
   "execution_count": 4,
   "id": "b3b2fd00",
   "metadata": {},
   "outputs": [
    {
     "data": {
      "text/html": [
       "<div>\n",
       "<style scoped>\n",
       "    .dataframe tbody tr th:only-of-type {\n",
       "        vertical-align: middle;\n",
       "    }\n",
       "\n",
       "    .dataframe tbody tr th {\n",
       "        vertical-align: top;\n",
       "    }\n",
       "\n",
       "    .dataframe thead th {\n",
       "        text-align: right;\n",
       "    }\n",
       "</style>\n",
       "<table border=\"1\" class=\"dataframe\">\n",
       "  <thead>\n",
       "    <tr style=\"text-align: right;\">\n",
       "      <th></th>\n",
       "      <th>Date_reported</th>\n",
       "      <th>Country_code</th>\n",
       "      <th>Country</th>\n",
       "      <th>New_cases</th>\n",
       "      <th>Year</th>\n",
       "    </tr>\n",
       "  </thead>\n",
       "  <tbody>\n",
       "    <tr>\n",
       "      <th>0</th>\n",
       "      <td>2020-01-03</td>\n",
       "      <td>BE</td>\n",
       "      <td>Belgium</td>\n",
       "      <td>0</td>\n",
       "      <td>2020</td>\n",
       "    </tr>\n",
       "    <tr>\n",
       "      <th>1</th>\n",
       "      <td>2020-01-04</td>\n",
       "      <td>BE</td>\n",
       "      <td>Belgium</td>\n",
       "      <td>0</td>\n",
       "      <td>2020</td>\n",
       "    </tr>\n",
       "    <tr>\n",
       "      <th>2</th>\n",
       "      <td>2020-01-05</td>\n",
       "      <td>BE</td>\n",
       "      <td>Belgium</td>\n",
       "      <td>0</td>\n",
       "      <td>2020</td>\n",
       "    </tr>\n",
       "    <tr>\n",
       "      <th>3</th>\n",
       "      <td>2020-01-06</td>\n",
       "      <td>BE</td>\n",
       "      <td>Belgium</td>\n",
       "      <td>0</td>\n",
       "      <td>2020</td>\n",
       "    </tr>\n",
       "    <tr>\n",
       "      <th>4</th>\n",
       "      <td>2020-01-07</td>\n",
       "      <td>BE</td>\n",
       "      <td>Belgium</td>\n",
       "      <td>0</td>\n",
       "      <td>2020</td>\n",
       "    </tr>\n",
       "  </tbody>\n",
       "</table>\n",
       "</div>"
      ],
      "text/plain": [
       "  Date_reported Country_code  Country  New_cases  Year\n",
       "0    2020-01-03           BE  Belgium          0  2020\n",
       "1    2020-01-04           BE  Belgium          0  2020\n",
       "2    2020-01-05           BE  Belgium          0  2020\n",
       "3    2020-01-06           BE  Belgium          0  2020\n",
       "4    2020-01-07           BE  Belgium          0  2020"
      ]
     },
     "execution_count": 4,
     "metadata": {},
     "output_type": "execute_result"
    }
   ],
   "source": [
    "#Building the year coulmn for each Date_reported\n",
    "database[\"Year\"] = database.apply(lambda x : x[\"Date_reported\"][0:4], axis = 1)\n",
    "database.head()"
   ]
  },
  {
   "cell_type": "markdown",
   "id": "af887974",
   "metadata": {},
   "source": [
    "    Uploading the database with the total population by year by country from:\n",
    "    https://ourworldindata.org/population-sources\n"
   ]
  },
  {
   "cell_type": "code",
   "execution_count": 5,
   "id": "c8cbe5da",
   "metadata": {},
   "outputs": [
    {
     "data": {
      "text/html": [
       "<div>\n",
       "<style scoped>\n",
       "    .dataframe tbody tr th:only-of-type {\n",
       "        vertical-align: middle;\n",
       "    }\n",
       "\n",
       "    .dataframe tbody tr th {\n",
       "        vertical-align: top;\n",
       "    }\n",
       "\n",
       "    .dataframe thead th {\n",
       "        text-align: right;\n",
       "    }\n",
       "</style>\n",
       "<table border=\"1\" class=\"dataframe\">\n",
       "  <thead>\n",
       "    <tr style=\"text-align: right;\">\n",
       "      <th></th>\n",
       "      <th>Entity</th>\n",
       "      <th>Code</th>\n",
       "      <th>Year</th>\n",
       "      <th>Population (future projections)</th>\n",
       "      <th>Population (historical estimates)</th>\n",
       "    </tr>\n",
       "  </thead>\n",
       "  <tbody>\n",
       "    <tr>\n",
       "      <th>0</th>\n",
       "      <td>Afghanistan</td>\n",
       "      <td>AFG</td>\n",
       "      <td>2022</td>\n",
       "      <td>41128772.0</td>\n",
       "      <td>NaN</td>\n",
       "    </tr>\n",
       "    <tr>\n",
       "      <th>1</th>\n",
       "      <td>Afghanistan</td>\n",
       "      <td>AFG</td>\n",
       "      <td>2023</td>\n",
       "      <td>42239856.0</td>\n",
       "      <td>NaN</td>\n",
       "    </tr>\n",
       "    <tr>\n",
       "      <th>2</th>\n",
       "      <td>Afghanistan</td>\n",
       "      <td>AFG</td>\n",
       "      <td>2024</td>\n",
       "      <td>43372952.0</td>\n",
       "      <td>NaN</td>\n",
       "    </tr>\n",
       "    <tr>\n",
       "      <th>3</th>\n",
       "      <td>Afghanistan</td>\n",
       "      <td>AFG</td>\n",
       "      <td>2025</td>\n",
       "      <td>44515788.0</td>\n",
       "      <td>NaN</td>\n",
       "    </tr>\n",
       "    <tr>\n",
       "      <th>4</th>\n",
       "      <td>Afghanistan</td>\n",
       "      <td>AFG</td>\n",
       "      <td>2026</td>\n",
       "      <td>45667552.0</td>\n",
       "      <td>NaN</td>\n",
       "    </tr>\n",
       "  </tbody>\n",
       "</table>\n",
       "</div>"
      ],
      "text/plain": [
       "        Entity Code  Year  Population (future projections)  \\\n",
       "0  Afghanistan  AFG  2022                       41128772.0   \n",
       "1  Afghanistan  AFG  2023                       42239856.0   \n",
       "2  Afghanistan  AFG  2024                       43372952.0   \n",
       "3  Afghanistan  AFG  2025                       44515788.0   \n",
       "4  Afghanistan  AFG  2026                       45667552.0   \n",
       "\n",
       "   Population (historical estimates)  \n",
       "0                                NaN  \n",
       "1                                NaN  \n",
       "2                                NaN  \n",
       "3                                NaN  \n",
       "4                                NaN  "
      ]
     },
     "execution_count": 5,
     "metadata": {},
     "output_type": "execute_result"
    }
   ],
   "source": [
    "databaseCPowid= pd.read_csv(\"/Users/linaruiz/Documents/EpidemicKabu_project/EpidemicKabu/exampleUseLibrary/data/populationOWID.csv\").reset_index(drop=True)\n",
    "databaseCPowid.head()"
   ]
  },
  {
   "cell_type": "code",
   "execution_count": 6,
   "id": "e648a30d",
   "metadata": {},
   "outputs": [
    {
     "data": {
      "text/html": [
       "<div>\n",
       "<style scoped>\n",
       "    .dataframe tbody tr th:only-of-type {\n",
       "        vertical-align: middle;\n",
       "    }\n",
       "\n",
       "    .dataframe tbody tr th {\n",
       "        vertical-align: top;\n",
       "    }\n",
       "\n",
       "    .dataframe thead th {\n",
       "        text-align: right;\n",
       "    }\n",
       "</style>\n",
       "<table border=\"1\" class=\"dataframe\">\n",
       "  <thead>\n",
       "    <tr style=\"text-align: right;\">\n",
       "      <th></th>\n",
       "      <th>Country</th>\n",
       "      <th>Year</th>\n",
       "      <th>Population</th>\n",
       "    </tr>\n",
       "  </thead>\n",
       "  <tbody>\n",
       "    <tr>\n",
       "      <th>0</th>\n",
       "      <td>Afghanistan</td>\n",
       "      <td>2022</td>\n",
       "      <td>41128772.0</td>\n",
       "    </tr>\n",
       "    <tr>\n",
       "      <th>1</th>\n",
       "      <td>Afghanistan</td>\n",
       "      <td>2023</td>\n",
       "      <td>42239856.0</td>\n",
       "    </tr>\n",
       "    <tr>\n",
       "      <th>2</th>\n",
       "      <td>Afghanistan</td>\n",
       "      <td>2024</td>\n",
       "      <td>43372952.0</td>\n",
       "    </tr>\n",
       "    <tr>\n",
       "      <th>3</th>\n",
       "      <td>Afghanistan</td>\n",
       "      <td>2025</td>\n",
       "      <td>44515788.0</td>\n",
       "    </tr>\n",
       "    <tr>\n",
       "      <th>4</th>\n",
       "      <td>Afghanistan</td>\n",
       "      <td>2026</td>\n",
       "      <td>45667552.0</td>\n",
       "    </tr>\n",
       "  </tbody>\n",
       "</table>\n",
       "</div>"
      ],
      "text/plain": [
       "       Country  Year  Population\n",
       "0  Afghanistan  2022  41128772.0\n",
       "1  Afghanistan  2023  42239856.0\n",
       "2  Afghanistan  2024  43372952.0\n",
       "3  Afghanistan  2025  44515788.0\n",
       "4  Afghanistan  2026  45667552.0"
      ]
     },
     "execution_count": 6,
     "metadata": {},
     "output_type": "execute_result"
    }
   ],
   "source": [
    "databaseCPowid[\"Population\"]=databaseCPowid['Population (future projections)'].combine_first(databaseCPowid['Population (historical estimates)'])\n",
    "databaseCPowid = databaseCPowid.rename(columns = {\"Entity\":\"Country\"})\n",
    "databaseCPowid = databaseCPowid[[\"Country\",\"Year\",\"Population\"]]\n",
    "databaseCPowid.head()"
   ]
  },
  {
   "cell_type": "code",
   "execution_count": 7,
   "id": "f11479bd",
   "metadata": {},
   "outputs": [
    {
     "name": "stderr",
     "output_type": "stream",
     "text": [
      "/var/folders/_3/sryc3_nj66vgwtq9swf_681m0000gn/T/ipykernel_11579/3148793422.py:1: FutureWarning: Boolean inputs to the `inclusive` argument are deprecated in favour of `both` or `neither`.\n",
      "  databaseCPowid=databaseCPowid[databaseCPowid[\"Year\"].between(2020,2022,inclusive=True)]\n"
     ]
    }
   ],
   "source": [
    "databaseCPowid=databaseCPowid[databaseCPowid[\"Year\"].between(2020,2022,inclusive=True)]"
   ]
  },
  {
   "cell_type": "code",
   "execution_count": 8,
   "id": "c576d5bf",
   "metadata": {},
   "outputs": [],
   "source": [
    "databaseCPowid[\"Year\"]=databaseCPowid[\"Year\"].astype(str)"
   ]
  },
  {
   "cell_type": "code",
   "execution_count": 9,
   "id": "175d755d",
   "metadata": {},
   "outputs": [
    {
     "data": {
      "text/plain": [
       "(762, 3)"
      ]
     },
     "execution_count": 9,
     "metadata": {},
     "output_type": "execute_result"
    }
   ],
   "source": [
    "databaseCPowid.shape"
   ]
  },
  {
   "cell_type": "code",
   "execution_count": 10,
   "id": "81a89a97",
   "metadata": {},
   "outputs": [
    {
     "data": {
      "text/plain": [
       "array(['Republic of Korea', 'The United Kingdom', 'Türkiye',\n",
       "       'United States of America'], dtype=object)"
      ]
     },
     "execution_count": 10,
     "metadata": {},
     "output_type": "execute_result"
    }
   ],
   "source": [
    "# Homogenization of the countries names in such way the the database and databaseCPowid could be joined\n",
    "np.setdiff1d(np.array(database[\"Country\"].unique()),np.array(databaseCPowid[\"Country\"].unique()))"
   ]
  },
  {
   "cell_type": "code",
   "execution_count": 11,
   "id": "c6d75353",
   "metadata": {},
   "outputs": [],
   "source": [
    "def looking (pattern):\n",
    "    return list(filter(lambda x : pattern in x, databaseCPowid[\"Country\"].unique()))"
   ]
  },
  {
   "cell_type": "code",
   "execution_count": 12,
   "id": "6232b2b0",
   "metadata": {},
   "outputs": [
    {
     "data": {
      "text/plain": [
       "['North Korea', 'South Korea']"
      ]
     },
     "execution_count": 12,
     "metadata": {},
     "output_type": "execute_result"
    }
   ],
   "source": [
    "looking(\"orea\")"
   ]
  },
  {
   "cell_type": "code",
   "execution_count": 13,
   "id": "95110fae",
   "metadata": {},
   "outputs": [
    {
     "data": {
      "text/plain": [
       "['United Kingdom']"
      ]
     },
     "execution_count": 13,
     "metadata": {},
     "output_type": "execute_result"
    }
   ],
   "source": [
    "looking(\"ingdom\")"
   ]
  },
  {
   "cell_type": "code",
   "execution_count": 14,
   "id": "aaf2fc56",
   "metadata": {},
   "outputs": [
    {
     "data": {
      "text/plain": [
       "['Turkey']"
      ]
     },
     "execution_count": 14,
     "metadata": {},
     "output_type": "execute_result"
    }
   ],
   "source": [
    "looking(\"rkey\")"
   ]
  },
  {
   "cell_type": "code",
   "execution_count": 15,
   "id": "17847b7b",
   "metadata": {},
   "outputs": [
    {
     "data": {
      "text/plain": [
       "['American Samoa',\n",
       " 'Latin America and the Caribbean (UN)',\n",
       " 'North America',\n",
       " 'Northern America (UN)',\n",
       " 'South America']"
      ]
     },
     "execution_count": 15,
     "metadata": {},
     "output_type": "execute_result"
    }
   ],
   "source": [
    "looking(\"merica\")"
   ]
  },
  {
   "cell_type": "code",
   "execution_count": 16,
   "id": "f98018ea",
   "metadata": {},
   "outputs": [
    {
     "data": {
      "text/plain": [
       "['United States', 'United States Virgin Islands']"
      ]
     },
     "execution_count": 16,
     "metadata": {},
     "output_type": "execute_result"
    }
   ],
   "source": [
    "looking(\"tates\")"
   ]
  },
  {
   "cell_type": "code",
   "execution_count": 17,
   "id": "93134d7c",
   "metadata": {},
   "outputs": [],
   "source": [
    "old_strings = ['South Korea', 'United Kingdom', 'Turkey','United States']\n",
    "new_strings = ['Republic of Korea', 'The United Kingdom', 'Türkiye',\n",
    "       'United States of America']"
   ]
  },
  {
   "cell_type": "code",
   "execution_count": 18,
   "id": "f91ad334",
   "metadata": {},
   "outputs": [
    {
     "data": {
      "text/plain": [
       "(762, 3)"
      ]
     },
     "execution_count": 18,
     "metadata": {},
     "output_type": "execute_result"
    }
   ],
   "source": [
    "databaseCPowid[\"Country\"] = databaseCPowid[\"Country\"].replace(old_strings,new_strings)\n",
    "databaseCPowid.shape"
   ]
  },
  {
   "cell_type": "code",
   "execution_count": 19,
   "id": "6543bb39",
   "metadata": {},
   "outputs": [
    {
     "data": {
      "text/plain": [
       "array([], dtype=object)"
      ]
     },
     "execution_count": 19,
     "metadata": {},
     "output_type": "execute_result"
    }
   ],
   "source": [
    "np.setdiff1d(np.array(database[\"Country\"].unique()),np.array(databaseCPowid[\"Country\"].unique()))"
   ]
  },
  {
   "cell_type": "markdown",
   "id": "5341e720",
   "metadata": {},
   "source": [
    "    The complete database"
   ]
  },
  {
   "cell_type": "code",
   "execution_count": 20,
   "id": "d4041ec9",
   "metadata": {},
   "outputs": [
    {
     "data": {
      "text/html": [
       "<div>\n",
       "<style scoped>\n",
       "    .dataframe tbody tr th:only-of-type {\n",
       "        vertical-align: middle;\n",
       "    }\n",
       "\n",
       "    .dataframe tbody tr th {\n",
       "        vertical-align: top;\n",
       "    }\n",
       "\n",
       "    .dataframe thead th {\n",
       "        text-align: right;\n",
       "    }\n",
       "</style>\n",
       "<table border=\"1\" class=\"dataframe\">\n",
       "  <thead>\n",
       "    <tr style=\"text-align: right;\">\n",
       "      <th></th>\n",
       "      <th>Date_reported</th>\n",
       "      <th>Country_code</th>\n",
       "      <th>Country</th>\n",
       "      <th>New_cases</th>\n",
       "      <th>Year</th>\n",
       "      <th>Population</th>\n",
       "    </tr>\n",
       "  </thead>\n",
       "  <tbody>\n",
       "    <tr>\n",
       "      <th>0</th>\n",
       "      <td>2020-01-03</td>\n",
       "      <td>BE</td>\n",
       "      <td>Belgium</td>\n",
       "      <td>0</td>\n",
       "      <td>2020</td>\n",
       "      <td>11561716.0</td>\n",
       "    </tr>\n",
       "    <tr>\n",
       "      <th>1</th>\n",
       "      <td>2020-01-04</td>\n",
       "      <td>BE</td>\n",
       "      <td>Belgium</td>\n",
       "      <td>0</td>\n",
       "      <td>2020</td>\n",
       "      <td>11561716.0</td>\n",
       "    </tr>\n",
       "    <tr>\n",
       "      <th>2</th>\n",
       "      <td>2020-01-05</td>\n",
       "      <td>BE</td>\n",
       "      <td>Belgium</td>\n",
       "      <td>0</td>\n",
       "      <td>2020</td>\n",
       "      <td>11561716.0</td>\n",
       "    </tr>\n",
       "    <tr>\n",
       "      <th>3</th>\n",
       "      <td>2020-01-06</td>\n",
       "      <td>BE</td>\n",
       "      <td>Belgium</td>\n",
       "      <td>0</td>\n",
       "      <td>2020</td>\n",
       "      <td>11561716.0</td>\n",
       "    </tr>\n",
       "  </tbody>\n",
       "</table>\n",
       "</div>"
      ],
      "text/plain": [
       "  Date_reported Country_code  Country  New_cases  Year  Population\n",
       "0    2020-01-03           BE  Belgium          0  2020  11561716.0\n",
       "1    2020-01-04           BE  Belgium          0  2020  11561716.0\n",
       "2    2020-01-05           BE  Belgium          0  2020  11561716.0\n",
       "3    2020-01-06           BE  Belgium          0  2020  11561716.0"
      ]
     },
     "execution_count": 20,
     "metadata": {},
     "output_type": "execute_result"
    }
   ],
   "source": [
    "#The complete database with the population by year by country by each date_reported and the indicator\n",
    "complete = pd.merge(database,databaseCPowid, on = [\"Country\",\"Year\"])\n",
    "complete.head(4)"
   ]
  },
  {
   "cell_type": "code",
   "execution_count": 21,
   "id": "a438c067",
   "metadata": {},
   "outputs": [
    {
     "data": {
      "text/plain": [
       "(14985, 6)"
      ]
     },
     "execution_count": 21,
     "metadata": {},
     "output_type": "execute_result"
    }
   ],
   "source": [
    "complete.shape"
   ]
  },
  {
   "cell_type": "code",
   "execution_count": 22,
   "id": "dd844058",
   "metadata": {},
   "outputs": [
    {
     "data": {
      "text/html": [
       "<div>\n",
       "<style scoped>\n",
       "    .dataframe tbody tr th:only-of-type {\n",
       "        vertical-align: middle;\n",
       "    }\n",
       "\n",
       "    .dataframe tbody tr th {\n",
       "        vertical-align: top;\n",
       "    }\n",
       "\n",
       "    .dataframe thead th {\n",
       "        text-align: right;\n",
       "    }\n",
       "</style>\n",
       "<table border=\"1\" class=\"dataframe\">\n",
       "  <thead>\n",
       "    <tr style=\"text-align: right;\">\n",
       "      <th></th>\n",
       "      <th>Date_reported</th>\n",
       "      <th>Country_code</th>\n",
       "      <th>Country</th>\n",
       "      <th>New_cases</th>\n",
       "      <th>Year</th>\n",
       "      <th>Population</th>\n",
       "      <th>Indicator</th>\n",
       "    </tr>\n",
       "  </thead>\n",
       "  <tbody>\n",
       "    <tr>\n",
       "      <th>0</th>\n",
       "      <td>2020-01-03</td>\n",
       "      <td>BE</td>\n",
       "      <td>Belgium</td>\n",
       "      <td>0</td>\n",
       "      <td>2020</td>\n",
       "      <td>11561716.0</td>\n",
       "      <td>0.0</td>\n",
       "    </tr>\n",
       "    <tr>\n",
       "      <th>1</th>\n",
       "      <td>2020-01-04</td>\n",
       "      <td>BE</td>\n",
       "      <td>Belgium</td>\n",
       "      <td>0</td>\n",
       "      <td>2020</td>\n",
       "      <td>11561716.0</td>\n",
       "      <td>0.0</td>\n",
       "    </tr>\n",
       "    <tr>\n",
       "      <th>2</th>\n",
       "      <td>2020-01-05</td>\n",
       "      <td>BE</td>\n",
       "      <td>Belgium</td>\n",
       "      <td>0</td>\n",
       "      <td>2020</td>\n",
       "      <td>11561716.0</td>\n",
       "      <td>0.0</td>\n",
       "    </tr>\n",
       "    <tr>\n",
       "      <th>3</th>\n",
       "      <td>2020-01-06</td>\n",
       "      <td>BE</td>\n",
       "      <td>Belgium</td>\n",
       "      <td>0</td>\n",
       "      <td>2020</td>\n",
       "      <td>11561716.0</td>\n",
       "      <td>0.0</td>\n",
       "    </tr>\n",
       "  </tbody>\n",
       "</table>\n",
       "</div>"
      ],
      "text/plain": [
       "  Date_reported Country_code  Country  New_cases  Year  Population  Indicator\n",
       "0    2020-01-03           BE  Belgium          0  2020  11561716.0        0.0\n",
       "1    2020-01-04           BE  Belgium          0  2020  11561716.0        0.0\n",
       "2    2020-01-05           BE  Belgium          0  2020  11561716.0        0.0\n",
       "3    2020-01-06           BE  Belgium          0  2020  11561716.0        0.0"
      ]
     },
     "execution_count": 22,
     "metadata": {},
     "output_type": "execute_result"
    }
   ],
   "source": [
    "complete.Date_reported = pd.to_datetime(complete.Date_reported,errors = \"coerce\")\n",
    "complete[\"Indicator\"] = (complete[\"New_cases\"]/complete[\"Population\"])*100\n",
    "complete.head(4)\n"
   ]
  },
  {
   "cell_type": "code",
   "execution_count": 23,
   "id": "0d33bfd7",
   "metadata": {},
   "outputs": [
    {
     "data": {
      "text/html": [
       "<div>\n",
       "<style scoped>\n",
       "    .dataframe tbody tr th:only-of-type {\n",
       "        vertical-align: middle;\n",
       "    }\n",
       "\n",
       "    .dataframe tbody tr th {\n",
       "        vertical-align: top;\n",
       "    }\n",
       "\n",
       "    .dataframe thead th {\n",
       "        text-align: right;\n",
       "    }\n",
       "</style>\n",
       "<table border=\"1\" class=\"dataframe\">\n",
       "  <thead>\n",
       "    <tr style=\"text-align: right;\">\n",
       "      <th></th>\n",
       "      <th>Date_reported</th>\n",
       "      <th>Country_code</th>\n",
       "      <th>Country</th>\n",
       "      <th>New_cases</th>\n",
       "      <th>Year</th>\n",
       "      <th>Population</th>\n",
       "      <th>Indicator</th>\n",
       "    </tr>\n",
       "  </thead>\n",
       "  <tbody>\n",
       "    <tr>\n",
       "      <th>0</th>\n",
       "      <td>2020-01-03</td>\n",
       "      <td>BE</td>\n",
       "      <td>Belgium</td>\n",
       "      <td>0</td>\n",
       "      <td>2020</td>\n",
       "      <td>11561716.0</td>\n",
       "      <td>0.0</td>\n",
       "    </tr>\n",
       "    <tr>\n",
       "      <th>1</th>\n",
       "      <td>2020-01-04</td>\n",
       "      <td>BE</td>\n",
       "      <td>Belgium</td>\n",
       "      <td>0</td>\n",
       "      <td>2020</td>\n",
       "      <td>11561716.0</td>\n",
       "      <td>0.0</td>\n",
       "    </tr>\n",
       "    <tr>\n",
       "      <th>2</th>\n",
       "      <td>2020-01-05</td>\n",
       "      <td>BE</td>\n",
       "      <td>Belgium</td>\n",
       "      <td>0</td>\n",
       "      <td>2020</td>\n",
       "      <td>11561716.0</td>\n",
       "      <td>0.0</td>\n",
       "    </tr>\n",
       "    <tr>\n",
       "      <th>3</th>\n",
       "      <td>2020-01-06</td>\n",
       "      <td>BE</td>\n",
       "      <td>Belgium</td>\n",
       "      <td>0</td>\n",
       "      <td>2020</td>\n",
       "      <td>11561716.0</td>\n",
       "      <td>0.0</td>\n",
       "    </tr>\n",
       "  </tbody>\n",
       "</table>\n",
       "</div>"
      ],
      "text/plain": [
       "  Date_reported Country_code  Country  New_cases  Year  Population  Indicator\n",
       "0    2020-01-03           BE  Belgium          0  2020  11561716.0        0.0\n",
       "1    2020-01-04           BE  Belgium          0  2020  11561716.0        0.0\n",
       "2    2020-01-05           BE  Belgium          0  2020  11561716.0        0.0\n",
       "3    2020-01-06           BE  Belgium          0  2020  11561716.0        0.0"
      ]
     },
     "execution_count": 23,
     "metadata": {},
     "output_type": "execute_result"
    }
   ],
   "source": [
    "complete.to_csv(\"/Users/linaruiz/Documents/EpidemicKabu_project/EpidemicKabu/exampleUseLibrary/data/uncoverCountriesIndicator.csv\")\n",
    "complete.drop_duplicates([\"Year\",\"Population\"])\n",
    "complete.head(4)"
   ]
  },
  {
   "cell_type": "markdown",
   "id": "d53c4e4e",
   "metadata": {},
   "source": [
    "***2. Using EpidemicKabu library:*** Using the date and the indicator of incident cases to estiamte the waves"
   ]
  },
  {
   "cell_type": "code",
   "execution_count": 3,
   "id": "f82ff544",
   "metadata": {},
   "outputs": [],
   "source": [
    "import epidemickabu as ek"
   ]
  },
  {
   "cell_type": "code",
   "execution_count": 4,
   "id": "5c6442c6",
   "metadata": {},
   "outputs": [],
   "source": [
    "dataframe= pd.read_csv(\"/Users/linaruiz/Documents/EpidemicKabu_project/EpidemicKabuLibrary/examples/data/uncoverCountriesIndicator.csv\")\n",
    "datesName = \"Date_reported\"\n",
    "casesName = \"Indicator\"\n",
    "configFile= pd.read_csv(\"/Users/linaruiz/Documents/EpidemicKabu_project/EpidemicKabuLibrary/examples/data/configurationFile.csv\")"
   ]
  },
  {
   "cell_type": "code",
   "execution_count": 5,
   "id": "ac7e1d6c",
   "metadata": {},
   "outputs": [
    {
     "data": {
      "text/html": [
       "<div>\n",
       "<style scoped>\n",
       "    .dataframe tbody tr th:only-of-type {\n",
       "        vertical-align: middle;\n",
       "    }\n",
       "\n",
       "    .dataframe tbody tr th {\n",
       "        vertical-align: top;\n",
       "    }\n",
       "\n",
       "    .dataframe thead th {\n",
       "        text-align: right;\n",
       "    }\n",
       "</style>\n",
       "<table border=\"1\" class=\"dataframe\">\n",
       "  <thead>\n",
       "    <tr style=\"text-align: right;\">\n",
       "      <th></th>\n",
       "      <th>Unnamed: 0</th>\n",
       "      <th>Date_reported</th>\n",
       "      <th>Country_code</th>\n",
       "      <th>Country</th>\n",
       "      <th>New_cases</th>\n",
       "      <th>Year</th>\n",
       "      <th>Population</th>\n",
       "      <th>Indicator</th>\n",
       "    </tr>\n",
       "  </thead>\n",
       "  <tbody>\n",
       "    <tr>\n",
       "      <th>0</th>\n",
       "      <td>0</td>\n",
       "      <td>2020-01-03</td>\n",
       "      <td>BE</td>\n",
       "      <td>Belgium</td>\n",
       "      <td>0</td>\n",
       "      <td>2020</td>\n",
       "      <td>11561716.0</td>\n",
       "      <td>0.000000</td>\n",
       "    </tr>\n",
       "    <tr>\n",
       "      <th>1</th>\n",
       "      <td>1</td>\n",
       "      <td>2020-01-04</td>\n",
       "      <td>BE</td>\n",
       "      <td>Belgium</td>\n",
       "      <td>0</td>\n",
       "      <td>2020</td>\n",
       "      <td>11561716.0</td>\n",
       "      <td>0.000000</td>\n",
       "    </tr>\n",
       "    <tr>\n",
       "      <th>2</th>\n",
       "      <td>2</td>\n",
       "      <td>2020-01-05</td>\n",
       "      <td>BE</td>\n",
       "      <td>Belgium</td>\n",
       "      <td>0</td>\n",
       "      <td>2020</td>\n",
       "      <td>11561716.0</td>\n",
       "      <td>0.000000</td>\n",
       "    </tr>\n",
       "    <tr>\n",
       "      <th>3</th>\n",
       "      <td>3</td>\n",
       "      <td>2020-01-06</td>\n",
       "      <td>BE</td>\n",
       "      <td>Belgium</td>\n",
       "      <td>0</td>\n",
       "      <td>2020</td>\n",
       "      <td>11561716.0</td>\n",
       "      <td>0.000000</td>\n",
       "    </tr>\n",
       "    <tr>\n",
       "      <th>4</th>\n",
       "      <td>4</td>\n",
       "      <td>2020-01-07</td>\n",
       "      <td>BE</td>\n",
       "      <td>Belgium</td>\n",
       "      <td>0</td>\n",
       "      <td>2020</td>\n",
       "      <td>11561716.0</td>\n",
       "      <td>0.000000</td>\n",
       "    </tr>\n",
       "    <tr>\n",
       "      <th>...</th>\n",
       "      <td>...</td>\n",
       "      <td>...</td>\n",
       "      <td>...</td>\n",
       "      <td>...</td>\n",
       "      <td>...</td>\n",
       "      <td>...</td>\n",
       "      <td>...</td>\n",
       "      <td>...</td>\n",
       "    </tr>\n",
       "    <tr>\n",
       "      <th>14980</th>\n",
       "      <td>14980</td>\n",
       "      <td>2022-09-23</td>\n",
       "      <td>US</td>\n",
       "      <td>United States of America</td>\n",
       "      <td>82395</td>\n",
       "      <td>2022</td>\n",
       "      <td>338289856.0</td>\n",
       "      <td>0.024356</td>\n",
       "    </tr>\n",
       "    <tr>\n",
       "      <th>14981</th>\n",
       "      <td>14981</td>\n",
       "      <td>2022-09-24</td>\n",
       "      <td>US</td>\n",
       "      <td>United States of America</td>\n",
       "      <td>94613</td>\n",
       "      <td>2022</td>\n",
       "      <td>338289856.0</td>\n",
       "      <td>0.027968</td>\n",
       "    </tr>\n",
       "    <tr>\n",
       "      <th>14982</th>\n",
       "      <td>14982</td>\n",
       "      <td>2022-09-25</td>\n",
       "      <td>US</td>\n",
       "      <td>United States of America</td>\n",
       "      <td>53399</td>\n",
       "      <td>2022</td>\n",
       "      <td>338289856.0</td>\n",
       "      <td>0.015785</td>\n",
       "    </tr>\n",
       "    <tr>\n",
       "      <th>14983</th>\n",
       "      <td>14983</td>\n",
       "      <td>2022-09-26</td>\n",
       "      <td>US</td>\n",
       "      <td>United States of America</td>\n",
       "      <td>8849</td>\n",
       "      <td>2022</td>\n",
       "      <td>338289856.0</td>\n",
       "      <td>0.002616</td>\n",
       "    </tr>\n",
       "    <tr>\n",
       "      <th>14984</th>\n",
       "      <td>14984</td>\n",
       "      <td>2022-09-27</td>\n",
       "      <td>US</td>\n",
       "      <td>United States of America</td>\n",
       "      <td>11168</td>\n",
       "      <td>2022</td>\n",
       "      <td>338289856.0</td>\n",
       "      <td>0.003301</td>\n",
       "    </tr>\n",
       "  </tbody>\n",
       "</table>\n",
       "<p>14985 rows × 8 columns</p>\n",
       "</div>"
      ],
      "text/plain": [
       "       Unnamed: 0 Date_reported Country_code                   Country  \\\n",
       "0               0    2020-01-03           BE                   Belgium   \n",
       "1               1    2020-01-04           BE                   Belgium   \n",
       "2               2    2020-01-05           BE                   Belgium   \n",
       "3               3    2020-01-06           BE                   Belgium   \n",
       "4               4    2020-01-07           BE                   Belgium   \n",
       "...           ...           ...          ...                       ...   \n",
       "14980       14980    2022-09-23           US  United States of America   \n",
       "14981       14981    2022-09-24           US  United States of America   \n",
       "14982       14982    2022-09-25           US  United States of America   \n",
       "14983       14983    2022-09-26           US  United States of America   \n",
       "14984       14984    2022-09-27           US  United States of America   \n",
       "\n",
       "       New_cases  Year   Population  Indicator  \n",
       "0              0  2020   11561716.0   0.000000  \n",
       "1              0  2020   11561716.0   0.000000  \n",
       "2              0  2020   11561716.0   0.000000  \n",
       "3              0  2020   11561716.0   0.000000  \n",
       "4              0  2020   11561716.0   0.000000  \n",
       "...          ...   ...          ...        ...  \n",
       "14980      82395  2022  338289856.0   0.024356  \n",
       "14981      94613  2022  338289856.0   0.027968  \n",
       "14982      53399  2022  338289856.0   0.015785  \n",
       "14983       8849  2022  338289856.0   0.002616  \n",
       "14984      11168  2022  338289856.0   0.003301  \n",
       "\n",
       "[14985 rows x 8 columns]"
      ]
     },
     "execution_count": 5,
     "metadata": {},
     "output_type": "execute_result"
    }
   ],
   "source": [
    "dataframe"
   ]
  },
  {
   "cell_type": "code",
   "execution_count": 6,
   "id": "eb10871b",
   "metadata": {},
   "outputs": [
    {
     "data": {
      "text/plain": [
       "14985"
      ]
     },
     "execution_count": 6,
     "metadata": {},
     "output_type": "execute_result"
    }
   ],
   "source": [
    "len(dataframe[\"Date_reported\"])"
   ]
  },
  {
   "cell_type": "code",
   "execution_count": 28,
   "id": "3e874df3",
   "metadata": {},
   "outputs": [],
   "source": [
    "# The dataframe with the columns dates and cases by date\n",
    "database = pd.read_csv(\"/Users/linaruiz/Documents/EpidemicKabu_project/EpidemicKabuLibrary/examples/data/uncoverCountries.csv\")\n",
    "database = database[[\"Date_reported\",\"Country_code\",\"Country\",\"New_cases\"]]\n",
    "databaseCOLOMBIA=database[database[\"Country_code\"]==\"GB\"]\n",
    "datesName = \"Date_reported\"\n",
    "casesName = \"Indicator\"\n",
    "databaseCOLOMBIA.head(3)\n",
    "\n",
    "# The next dataframe has the kernel values for the countries\n",
    "configFile= pd.read_csv(\"/Users/linaruiz/Documents/EpidemicKabu_project/EpidemicKabuLibrary/examples/data/configurationFile.csv\")\n",
    "configFile.head(3)\n",
    "\n",
    "# the names of the output files\n",
    "plotNameW = \"Epidemic_curve_UK_W_exploringL\"\n",
    "dfNameW = \"Epidemic_curve_UK_W_exploringL\"\n",
    "plotNamePV = \"Epidemic_curve_UK_PV_exploringL\"\n",
    "dfNamePV = \"Epidemic_curve_UK_PV_exploringL\"\n",
    "\n",
    "#Be sure to create the \"./plots/\" and \"./dataframes\" folder in the same folder in which you\n",
    "#are running the code, or define the variables to set an specific directory\n",
    "outFolderPlot= \"/Users/linaruiz/Documents/EpidemicKabu_project/EpidemicKabuLibrary/examples/plots/\"\n",
    "outFolderDF= \"/Users/linaruiz/Documents/EpidemicKabu_project/EpidemicKabuLibrary/examples/dataframes/\"\n",
    "\n",
    "# The threshols is optional by default is zero. \n",
    "thresholdW = 0\n",
    "thresholdPV = 0"
   ]
  },
  {
   "cell_type": "code",
   "execution_count": 29,
   "id": "a0e01cbb",
   "metadata": {},
   "outputs": [],
   "source": [
    "def kabuWavesF (database,datesName,casesName,value,plotName,dfName):\n",
    "    test = ek.waves(database,datesName,casesName,[configFile,\"Code\",value,\"kernel1\"],[configFile,\"Code\",value,\"Kernel2\"],plotName,dfName)\n",
    "    test.run()"
   ]
  },
  {
   "cell_type": "code",
   "execution_count": 34,
   "id": "ca57b033",
   "metadata": {},
   "outputs": [
    {
     "data": {
      "text/html": [
       "<div>\n",
       "<style scoped>\n",
       "    .dataframe tbody tr th:only-of-type {\n",
       "        vertical-align: middle;\n",
       "    }\n",
       "\n",
       "    .dataframe tbody tr th {\n",
       "        vertical-align: top;\n",
       "    }\n",
       "\n",
       "    .dataframe thead th {\n",
       "        text-align: right;\n",
       "    }\n",
       "</style>\n",
       "<table border=\"1\" class=\"dataframe\">\n",
       "  <thead>\n",
       "    <tr style=\"text-align: right;\">\n",
       "      <th></th>\n",
       "    </tr>\n",
       "  </thead>\n",
       "  <tbody>\n",
       "  </tbody>\n",
       "</table>\n",
       "</div>"
      ],
      "text/plain": [
       "Empty DataFrame\n",
       "Columns: []\n",
       "Index: []"
      ]
     },
     "execution_count": 34,
     "metadata": {},
     "output_type": "execute_result"
    }
   ],
   "source": [
    "dataframe.groupby(\"Country\").apply(lambda x : kabuWavesF(\n",
    "    x[[\"Date_reported\",\"Indicator\"]],\n",
    "    datesName,\n",
    "    casesName,\n",
    "    x[\"Country_code\"].iloc[0],\n",
    "    \"Waves_\"+ x[\"Country\"].iloc[0]+\" indicator\",\n",
    "    \"Waves_\"+ x[\"Country\"].iloc[0]+\" indicator\"))"
   ]
  },
  {
   "cell_type": "markdown",
   "id": "592f3ddc",
   "metadata": {},
   "source": [
    "***3. Creating a database to estimate the size of the waves:***\n",
    "1. sum: It counts the Indicator values since the start to the end of each wave\n",
    "2. max: The maximum value inside the wave\n",
    "3. long: The number of dates that a wave spans\n",
    "NOTE: All these are estimated using the Smothed curve of the indicator not the raw data "
   ]
  },
  {
   "cell_type": "code",
   "execution_count": 7,
   "id": "22860eff",
   "metadata": {},
   "outputs": [
    {
     "data": {
      "text/html": [
       "<div>\n",
       "<style scoped>\n",
       "    .dataframe tbody tr th:only-of-type {\n",
       "        vertical-align: middle;\n",
       "    }\n",
       "\n",
       "    .dataframe tbody tr th {\n",
       "        vertical-align: top;\n",
       "    }\n",
       "\n",
       "    .dataframe thead th {\n",
       "        text-align: right;\n",
       "    }\n",
       "</style>\n",
       "<table border=\"1\" class=\"dataframe\">\n",
       "  <thead>\n",
       "    <tr style=\"text-align: right;\">\n",
       "      <th></th>\n",
       "      <th>Unnamed: 0</th>\n",
       "      <th>Date_reported</th>\n",
       "      <th>Country_code</th>\n",
       "      <th>Country</th>\n",
       "      <th>New_cases</th>\n",
       "      <th>Year</th>\n",
       "      <th>Population</th>\n",
       "      <th>Indicator</th>\n",
       "    </tr>\n",
       "  </thead>\n",
       "  <tbody>\n",
       "    <tr>\n",
       "      <th>0</th>\n",
       "      <td>0</td>\n",
       "      <td>2020-01-03</td>\n",
       "      <td>BE</td>\n",
       "      <td>Belgium</td>\n",
       "      <td>0</td>\n",
       "      <td>2020</td>\n",
       "      <td>11561716.0</td>\n",
       "      <td>0.000000</td>\n",
       "    </tr>\n",
       "    <tr>\n",
       "      <th>1</th>\n",
       "      <td>1</td>\n",
       "      <td>2020-01-04</td>\n",
       "      <td>BE</td>\n",
       "      <td>Belgium</td>\n",
       "      <td>0</td>\n",
       "      <td>2020</td>\n",
       "      <td>11561716.0</td>\n",
       "      <td>0.000000</td>\n",
       "    </tr>\n",
       "    <tr>\n",
       "      <th>2</th>\n",
       "      <td>2</td>\n",
       "      <td>2020-01-05</td>\n",
       "      <td>BE</td>\n",
       "      <td>Belgium</td>\n",
       "      <td>0</td>\n",
       "      <td>2020</td>\n",
       "      <td>11561716.0</td>\n",
       "      <td>0.000000</td>\n",
       "    </tr>\n",
       "    <tr>\n",
       "      <th>3</th>\n",
       "      <td>3</td>\n",
       "      <td>2020-01-06</td>\n",
       "      <td>BE</td>\n",
       "      <td>Belgium</td>\n",
       "      <td>0</td>\n",
       "      <td>2020</td>\n",
       "      <td>11561716.0</td>\n",
       "      <td>0.000000</td>\n",
       "    </tr>\n",
       "    <tr>\n",
       "      <th>4</th>\n",
       "      <td>4</td>\n",
       "      <td>2020-01-07</td>\n",
       "      <td>BE</td>\n",
       "      <td>Belgium</td>\n",
       "      <td>0</td>\n",
       "      <td>2020</td>\n",
       "      <td>11561716.0</td>\n",
       "      <td>0.000000</td>\n",
       "    </tr>\n",
       "    <tr>\n",
       "      <th>...</th>\n",
       "      <td>...</td>\n",
       "      <td>...</td>\n",
       "      <td>...</td>\n",
       "      <td>...</td>\n",
       "      <td>...</td>\n",
       "      <td>...</td>\n",
       "      <td>...</td>\n",
       "      <td>...</td>\n",
       "    </tr>\n",
       "    <tr>\n",
       "      <th>14980</th>\n",
       "      <td>14980</td>\n",
       "      <td>2022-09-23</td>\n",
       "      <td>US</td>\n",
       "      <td>United States of America</td>\n",
       "      <td>82395</td>\n",
       "      <td>2022</td>\n",
       "      <td>338289856.0</td>\n",
       "      <td>0.024356</td>\n",
       "    </tr>\n",
       "    <tr>\n",
       "      <th>14981</th>\n",
       "      <td>14981</td>\n",
       "      <td>2022-09-24</td>\n",
       "      <td>US</td>\n",
       "      <td>United States of America</td>\n",
       "      <td>94613</td>\n",
       "      <td>2022</td>\n",
       "      <td>338289856.0</td>\n",
       "      <td>0.027968</td>\n",
       "    </tr>\n",
       "    <tr>\n",
       "      <th>14982</th>\n",
       "      <td>14982</td>\n",
       "      <td>2022-09-25</td>\n",
       "      <td>US</td>\n",
       "      <td>United States of America</td>\n",
       "      <td>53399</td>\n",
       "      <td>2022</td>\n",
       "      <td>338289856.0</td>\n",
       "      <td>0.015785</td>\n",
       "    </tr>\n",
       "    <tr>\n",
       "      <th>14983</th>\n",
       "      <td>14983</td>\n",
       "      <td>2022-09-26</td>\n",
       "      <td>US</td>\n",
       "      <td>United States of America</td>\n",
       "      <td>8849</td>\n",
       "      <td>2022</td>\n",
       "      <td>338289856.0</td>\n",
       "      <td>0.002616</td>\n",
       "    </tr>\n",
       "    <tr>\n",
       "      <th>14984</th>\n",
       "      <td>14984</td>\n",
       "      <td>2022-09-27</td>\n",
       "      <td>US</td>\n",
       "      <td>United States of America</td>\n",
       "      <td>11168</td>\n",
       "      <td>2022</td>\n",
       "      <td>338289856.0</td>\n",
       "      <td>0.003301</td>\n",
       "    </tr>\n",
       "  </tbody>\n",
       "</table>\n",
       "<p>14985 rows × 8 columns</p>\n",
       "</div>"
      ],
      "text/plain": [
       "       Unnamed: 0 Date_reported Country_code                   Country  \\\n",
       "0               0    2020-01-03           BE                   Belgium   \n",
       "1               1    2020-01-04           BE                   Belgium   \n",
       "2               2    2020-01-05           BE                   Belgium   \n",
       "3               3    2020-01-06           BE                   Belgium   \n",
       "4               4    2020-01-07           BE                   Belgium   \n",
       "...           ...           ...          ...                       ...   \n",
       "14980       14980    2022-09-23           US  United States of America   \n",
       "14981       14981    2022-09-24           US  United States of America   \n",
       "14982       14982    2022-09-25           US  United States of America   \n",
       "14983       14983    2022-09-26           US  United States of America   \n",
       "14984       14984    2022-09-27           US  United States of America   \n",
       "\n",
       "       New_cases  Year   Population  Indicator  \n",
       "0              0  2020   11561716.0   0.000000  \n",
       "1              0  2020   11561716.0   0.000000  \n",
       "2              0  2020   11561716.0   0.000000  \n",
       "3              0  2020   11561716.0   0.000000  \n",
       "4              0  2020   11561716.0   0.000000  \n",
       "...          ...   ...          ...        ...  \n",
       "14980      82395  2022  338289856.0   0.024356  \n",
       "14981      94613  2022  338289856.0   0.027968  \n",
       "14982      53399  2022  338289856.0   0.015785  \n",
       "14983       8849  2022  338289856.0   0.002616  \n",
       "14984      11168  2022  338289856.0   0.003301  \n",
       "\n",
       "[14985 rows x 8 columns]"
      ]
     },
     "execution_count": 7,
     "metadata": {},
     "output_type": "execute_result"
    }
   ],
   "source": [
    "dataframe"
   ]
  },
  {
   "cell_type": "code",
   "execution_count": 40,
   "id": "2d1cf30d",
   "metadata": {},
   "outputs": [
    {
     "data": {
      "text/html": [
       "<div>\n",
       "<style scoped>\n",
       "    .dataframe tbody tr th:only-of-type {\n",
       "        vertical-align: middle;\n",
       "    }\n",
       "\n",
       "    .dataframe tbody tr th {\n",
       "        vertical-align: top;\n",
       "    }\n",
       "\n",
       "    .dataframe thead th {\n",
       "        text-align: right;\n",
       "    }\n",
       "</style>\n",
       "<table border=\"1\" class=\"dataframe\">\n",
       "  <thead>\n",
       "    <tr style=\"text-align: right;\">\n",
       "      <th></th>\n",
       "      <th></th>\n",
       "      <th>Unnamed: 0</th>\n",
       "      <th>Date_reported</th>\n",
       "      <th>Indicator</th>\n",
       "      <th>SmoothedCases</th>\n",
       "      <th>cutDatesW</th>\n",
       "    </tr>\n",
       "    <tr>\n",
       "      <th>Country</th>\n",
       "      <th></th>\n",
       "      <th></th>\n",
       "      <th></th>\n",
       "      <th></th>\n",
       "      <th></th>\n",
       "      <th></th>\n",
       "    </tr>\n",
       "  </thead>\n",
       "  <tbody>\n",
       "    <tr>\n",
       "      <th rowspan=\"5\" valign=\"top\">Belgium</th>\n",
       "      <th>0</th>\n",
       "      <td>0</td>\n",
       "      <td>2020-01-03</td>\n",
       "      <td>0.000000</td>\n",
       "      <td>3.967039e-09</td>\n",
       "      <td>0</td>\n",
       "    </tr>\n",
       "    <tr>\n",
       "      <th>1</th>\n",
       "      <td>1</td>\n",
       "      <td>2020-01-04</td>\n",
       "      <td>0.000000</td>\n",
       "      <td>5.050803e-09</td>\n",
       "      <td>0</td>\n",
       "    </tr>\n",
       "    <tr>\n",
       "      <th>2</th>\n",
       "      <td>2</td>\n",
       "      <td>2020-01-05</td>\n",
       "      <td>0.000000</td>\n",
       "      <td>6.405380e-09</td>\n",
       "      <td>0</td>\n",
       "    </tr>\n",
       "    <tr>\n",
       "      <th>3</th>\n",
       "      <td>3</td>\n",
       "      <td>2020-01-06</td>\n",
       "      <td>0.000000</td>\n",
       "      <td>8.089473e-09</td>\n",
       "      <td>0</td>\n",
       "    </tr>\n",
       "    <tr>\n",
       "      <th>4</th>\n",
       "      <td>4</td>\n",
       "      <td>2020-01-07</td>\n",
       "      <td>0.000000</td>\n",
       "      <td>1.017147e-08</td>\n",
       "      <td>0</td>\n",
       "    </tr>\n",
       "    <tr>\n",
       "      <th>...</th>\n",
       "      <th>...</th>\n",
       "      <td>...</td>\n",
       "      <td>...</td>\n",
       "      <td>...</td>\n",
       "      <td>...</td>\n",
       "      <td>...</td>\n",
       "    </tr>\n",
       "    <tr>\n",
       "      <th rowspan=\"5\" valign=\"top\">United States of America</th>\n",
       "      <th>994</th>\n",
       "      <td>14980</td>\n",
       "      <td>2022-09-23</td>\n",
       "      <td>0.024356</td>\n",
       "      <td>1.628586e-02</td>\n",
       "      <td>0</td>\n",
       "    </tr>\n",
       "    <tr>\n",
       "      <th>995</th>\n",
       "      <td>14981</td>\n",
       "      <td>2022-09-24</td>\n",
       "      <td>0.027968</td>\n",
       "      <td>1.608026e-02</td>\n",
       "      <td>0</td>\n",
       "    </tr>\n",
       "    <tr>\n",
       "      <th>996</th>\n",
       "      <td>14982</td>\n",
       "      <td>2022-09-25</td>\n",
       "      <td>0.015785</td>\n",
       "      <td>1.588202e-02</td>\n",
       "      <td>0</td>\n",
       "    </tr>\n",
       "    <tr>\n",
       "      <th>997</th>\n",
       "      <td>14983</td>\n",
       "      <td>2022-09-26</td>\n",
       "      <td>0.002616</td>\n",
       "      <td>1.569049e-02</td>\n",
       "      <td>0</td>\n",
       "    </tr>\n",
       "    <tr>\n",
       "      <th>998</th>\n",
       "      <td>14984</td>\n",
       "      <td>2022-09-27</td>\n",
       "      <td>0.003301</td>\n",
       "      <td>1.550509e-02</td>\n",
       "      <td>0</td>\n",
       "    </tr>\n",
       "  </tbody>\n",
       "</table>\n",
       "<p>14985 rows × 5 columns</p>\n",
       "</div>"
      ],
      "text/plain": [
       "                              Unnamed: 0 Date_reported  Indicator  \\\n",
       "Country                                                             \n",
       "Belgium                  0             0    2020-01-03   0.000000   \n",
       "                         1             1    2020-01-04   0.000000   \n",
       "                         2             2    2020-01-05   0.000000   \n",
       "                         3             3    2020-01-06   0.000000   \n",
       "                         4             4    2020-01-07   0.000000   \n",
       "...                                  ...           ...        ...   \n",
       "United States of America 994       14980    2022-09-23   0.024356   \n",
       "                         995       14981    2022-09-24   0.027968   \n",
       "                         996       14982    2022-09-25   0.015785   \n",
       "                         997       14983    2022-09-26   0.002616   \n",
       "                         998       14984    2022-09-27   0.003301   \n",
       "\n",
       "                              SmoothedCases  cutDatesW  \n",
       "Country                                                 \n",
       "Belgium                  0     3.967039e-09          0  \n",
       "                         1     5.050803e-09          0  \n",
       "                         2     6.405380e-09          0  \n",
       "                         3     8.089473e-09          0  \n",
       "                         4     1.017147e-08          0  \n",
       "...                                     ...        ...  \n",
       "United States of America 994   1.628586e-02          0  \n",
       "                         995   1.608026e-02          0  \n",
       "                         996   1.588202e-02          0  \n",
       "                         997   1.569049e-02          0  \n",
       "                         998   1.550509e-02          0  \n",
       "\n",
       "[14985 rows x 5 columns]"
      ]
     },
     "execution_count": 40,
     "metadata": {},
     "output_type": "execute_result"
    }
   ],
   "source": [
    "sizeWavesDF = dataframe.groupby(\"Country\").apply(lambda x : pd.read_csv(\"/Users/linaruiz/Documents/EpidemicKabu_project/EpidemicKabuLibrary/examples/dataframes/\" + \"Waves_\"+ x[\"Country\"].iloc[0]+\" indicator\" + \".csv\"))\n",
    "sizeWavesDF"
   ]
  },
  {
   "cell_type": "code",
   "execution_count": 37,
   "id": "bfc5f429",
   "metadata": {},
   "outputs": [
    {
     "data": {
      "text/plain": [
       "14985"
      ]
     },
     "execution_count": 37,
     "metadata": {},
     "output_type": "execute_result"
    }
   ],
   "source": [
    "len(dataframe)"
   ]
  },
  {
   "cell_type": "code",
   "execution_count": 8,
   "id": "cd9a390c",
   "metadata": {},
   "outputs": [],
   "source": [
    "def group (name):\n",
    "    d = pd.read_csv(\"/Users/linaruiz/Documents/EpidemicKabu_project/EpidemicKabuLibrary/examples/dataframes/\" + name + \".csv\")\n",
    "    d[\"Indicator\"] = d[\"SmoothedCases\"]\n",
    "    d[\"waveNum\"] = (d['cutDatesW'] == 1).cumsum()\n",
    "    n = d.groupby(\"waveNum\")['Indicator'].agg([\"max\",\"sum\"]) \n",
    "    n[\"spanDays\"] = d.groupby(\"waveNum\")['Indicator'].agg(\"count\")\n",
    "    n[\"ratioSumSpan\"] = n[\"sum\"]/n[\"spanDays\"]\n",
    "    return n"
   ]
  },
  {
   "cell_type": "code",
   "execution_count": 9,
   "id": "24b26b4c",
   "metadata": {},
   "outputs": [
    {
     "data": {
      "text/html": [
       "<div>\n",
       "<style scoped>\n",
       "    .dataframe tbody tr th:only-of-type {\n",
       "        vertical-align: middle;\n",
       "    }\n",
       "\n",
       "    .dataframe tbody tr th {\n",
       "        vertical-align: top;\n",
       "    }\n",
       "\n",
       "    .dataframe thead th {\n",
       "        text-align: right;\n",
       "    }\n",
       "</style>\n",
       "<table border=\"1\" class=\"dataframe\">\n",
       "  <thead>\n",
       "    <tr style=\"text-align: right;\">\n",
       "      <th></th>\n",
       "      <th></th>\n",
       "      <th>max</th>\n",
       "      <th>sum</th>\n",
       "      <th>spanDays</th>\n",
       "      <th>ratioSumSpan</th>\n",
       "    </tr>\n",
       "    <tr>\n",
       "      <th>Country</th>\n",
       "      <th>waveNum</th>\n",
       "      <th></th>\n",
       "      <th></th>\n",
       "      <th></th>\n",
       "      <th></th>\n",
       "    </tr>\n",
       "  </thead>\n",
       "  <tbody>\n",
       "    <tr>\n",
       "      <th rowspan=\"5\" valign=\"top\">Belgium</th>\n",
       "      <th>0</th>\n",
       "      <td>0.010796</td>\n",
       "      <td>0.527542</td>\n",
       "      <td>170</td>\n",
       "      <td>0.003103</td>\n",
       "    </tr>\n",
       "    <tr>\n",
       "      <th>1</th>\n",
       "      <td>0.099744</td>\n",
       "      <td>5.151652</td>\n",
       "      <td>199</td>\n",
       "      <td>0.025888</td>\n",
       "    </tr>\n",
       "    <tr>\n",
       "      <th>2</th>\n",
       "      <td>0.035368</td>\n",
       "      <td>3.623331</td>\n",
       "      <td>169</td>\n",
       "      <td>0.021440</td>\n",
       "    </tr>\n",
       "    <tr>\n",
       "      <th>3</th>\n",
       "      <td>0.132126</td>\n",
       "      <td>7.411447</td>\n",
       "      <td>173</td>\n",
       "      <td>0.042841</td>\n",
       "    </tr>\n",
       "    <tr>\n",
       "      <th>4</th>\n",
       "      <td>0.316606</td>\n",
       "      <td>14.644044</td>\n",
       "      <td>87</td>\n",
       "      <td>0.168322</td>\n",
       "    </tr>\n",
       "    <tr>\n",
       "      <th>...</th>\n",
       "      <th>...</th>\n",
       "      <td>...</td>\n",
       "      <td>...</td>\n",
       "      <td>...</td>\n",
       "      <td>...</td>\n",
       "    </tr>\n",
       "    <tr>\n",
       "      <th rowspan=\"5\" valign=\"top\">United States of America</th>\n",
       "      <th>2</th>\n",
       "      <td>0.063211</td>\n",
       "      <td>6.827758</td>\n",
       "      <td>189</td>\n",
       "      <td>0.036126</td>\n",
       "    </tr>\n",
       "    <tr>\n",
       "      <th>3</th>\n",
       "      <td>0.018725</td>\n",
       "      <td>1.091631</td>\n",
       "      <td>86</td>\n",
       "      <td>0.012693</td>\n",
       "    </tr>\n",
       "    <tr>\n",
       "      <th>4</th>\n",
       "      <td>0.045002</td>\n",
       "      <td>3.691912</td>\n",
       "      <td>139</td>\n",
       "      <td>0.026561</td>\n",
       "    </tr>\n",
       "    <tr>\n",
       "      <th>5</th>\n",
       "      <td>0.192028</td>\n",
       "      <td>10.004389</td>\n",
       "      <td>150</td>\n",
       "      <td>0.066696</td>\n",
       "    </tr>\n",
       "    <tr>\n",
       "      <th>6</th>\n",
       "      <td>0.036574</td>\n",
       "      <td>4.574328</td>\n",
       "      <td>182</td>\n",
       "      <td>0.025134</td>\n",
       "    </tr>\n",
       "  </tbody>\n",
       "</table>\n",
       "<p>91 rows × 4 columns</p>\n",
       "</div>"
      ],
      "text/plain": [
       "                                       max        sum  spanDays  ratioSumSpan\n",
       "Country                  waveNum                                             \n",
       "Belgium                  0        0.010796   0.527542       170      0.003103\n",
       "                         1        0.099744   5.151652       199      0.025888\n",
       "                         2        0.035368   3.623331       169      0.021440\n",
       "                         3        0.132126   7.411447       173      0.042841\n",
       "                         4        0.316606  14.644044        87      0.168322\n",
       "...                                    ...        ...       ...           ...\n",
       "United States of America 2        0.063211   6.827758       189      0.036126\n",
       "                         3        0.018725   1.091631        86      0.012693\n",
       "                         4        0.045002   3.691912       139      0.026561\n",
       "                         5        0.192028  10.004389       150      0.066696\n",
       "                         6        0.036574   4.574328       182      0.025134\n",
       "\n",
       "[91 rows x 4 columns]"
      ]
     },
     "execution_count": 9,
     "metadata": {},
     "output_type": "execute_result"
    }
   ],
   "source": [
    "sizeWavesDF = dataframe.groupby(\"Country\").apply(lambda x : group(\"Waves_\"+ x[\"Country\"].iloc[0]+\" indicator\") )\n",
    "sizeWavesDF.to_csv(\"/Users/linaruiz/Documents/EpidemicKabu_project/EpidemicKabuLibrary/examples/data/wavesSizes.csv\")\n",
    "sizeWavesDF"
   ]
  }
 ],
 "metadata": {
  "kernelspec": {
   "display_name": "Python 3 (ipykernel)",
   "language": "python",
   "name": "python3"
  },
  "language_info": {
   "codemirror_mode": {
    "name": "ipython",
    "version": 3
   },
   "file_extension": ".py",
   "mimetype": "text/x-python",
   "name": "python",
   "nbconvert_exporter": "python",
   "pygments_lexer": "ipython3",
   "version": "3.10.10"
  }
 },
 "nbformat": 4,
 "nbformat_minor": 5
}
